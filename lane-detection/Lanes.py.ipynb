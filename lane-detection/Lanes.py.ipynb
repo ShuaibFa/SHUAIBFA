{
 "cells": [
  {
   "cell_type": "code",
   "execution_count": null,
   "id": "ca95b573",
   "metadata": {},
   "outputs": [],
   "source": [
    "import cv2\n",
    "import numpy as np\n",
    "def canny(image) :\n",
    "    gray = cv2.cvtColor(lane_image, cv2.COLOR_RGB2GRAY) #GRAYSCALE\n",
    "    blur = cv2.GaussianBlur(gray, (5, 5), 0)\n",
    "    canny = cv2.Canny(blur, 50, 150)\n",
    "    return canny\n",
    "\n",
    "def region_of_interest(image) :\n",
    "    height = image.shape[0]\n",
    "    polygons = np.array( [\n",
    "    [(255, height ) , (805, height ),(555 , 270)] ] )\n",
    "    mask = np.zeros_like(image)\n",
    "    cv2.fillPoly(mask, polygons, 255)\n",
    "    return mask\n",
    "\n",
    "image = cv2.imread('straight_lines.jpeg')\n",
    "lane_image = np.copy(image)\n",
    "canny = canny(lane_image)\n",
    "cv2.imshow(\"result\", region_of_interest(canny))\n",
    "cv2.waitKey(0)\n"
   ]
  }
 ],
 "metadata": {
  "kernelspec": {
   "display_name": "Python 3 (ipykernel)",
   "language": "python",
   "name": "python3"
  },
  "language_info": {
   "codemirror_mode": {
    "name": "ipython",
    "version": 3
   },
   "file_extension": ".py",
   "mimetype": "text/x-python",
   "name": "python",
   "nbconvert_exporter": "python",
   "pygments_lexer": "ipython3",
   "version": "3.9.7"
  }
 },
 "nbformat": 4,
 "nbformat_minor": 5
}
